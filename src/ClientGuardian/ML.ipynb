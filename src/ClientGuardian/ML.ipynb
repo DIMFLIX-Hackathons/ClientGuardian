{
 "cells": [
  {
   "cell_type": "markdown",
   "metadata": {},
   "source": [
    "#Сначала предобработОчка потом моделька"
   ]
  },
  {
   "cell_type": "code",
   "execution_count": null,
   "metadata": {},
   "outputs": [],
   "source": [
    "#Имопртируем библиотеки для анализа данных итд\n",
    "import vaex as vx \n",
    "import numpy as np\n",
    "import matplotlib.pyplot as plt\n",
    "import seaborn as sns\n",
    "import pandas as pd\n",
    "from sklearn.datasets import load_iris\n",
    "from sklearn.feature_selection import RFE\n",
    "from sklearn.linear_model import LogisticRegression"
   ]
  },
  {
   "cell_type": "code",
   "execution_count": null,
   "metadata": {},
   "outputs": [],
   "source": [
    "#Считываем файл \n",
    "df = vaex.from_csv('')\n",
    "print(df.head(5))"
   ]
  },
  {
   "cell_type": "code",
   "execution_count": null,
   "metadata": {},
   "outputs": [],
   "source": [
    "#Разделяем данные на несколько переменных \n",
    "\n",
    "num_cols = []\n",
    "cat_cos = []\n",
    "target = ''\n"
   ]
  },
  {
   "cell_type": "code",
   "execution_count": null,
   "metadata": {},
   "outputs": [],
   "source": [
    "#Проверяем на наличие повторяющихся записей\n",
    "print(f\"Duplicated rows: {data.duplicated(keep=False).sum()}\")\n",
    "print(f\"Duplicated rows without target: {data.drop(target, axis=1).duplicated(keep=False).sum()}\") "
   ]
  },
  {
   "cell_type": "code",
   "execution_count": null,
   "metadata": {},
   "outputs": [],
   "source": [
    "#Удаление повторяющихся записей\n",
    "data[data.drop(target, axis=1).duplicated(keep=False)].sort_values(by=[*data.columns])\n"
   ]
  },
  {
   "cell_type": "code",
   "execution_count": null,
   "metadata": {},
   "outputs": [],
   "source": [
    "#Заполнение ячеек со значениями Nan  и пробелами\n",
    "data.replace(\" \", np.nan, inplace=True)\n",
    "X_test.replace(\" \", np.nan, inplace=True)\n",
    "pd.DataFrame(data.isna().sum(), columns=[\"NaN Count\"]) \\\n",
    "    .sort_values(\"NaN Count\") \\\n",
    "    .plot(kind=\"barh\", legend=False, figsize=(12, 8));"
   ]
  },
  {
   "cell_type": "code",
   "execution_count": null,
   "metadata": {},
   "outputs": [],
   "source": [
    "#Либо же если "
   ]
  }
 ],
 "metadata": {
  "kernelspec": {
   "display_name": "Python 3",
   "language": "python",
   "name": "python3"
  },
  "language_info": {
   "name": "python",
   "version": "3.10.11"
  }
 },
 "nbformat": 4,
 "nbformat_minor": 2
}
