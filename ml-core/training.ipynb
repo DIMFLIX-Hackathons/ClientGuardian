{
  "cells": [
    {
      "cell_type": "code",
      "execution_count": 24,
      "metadata": {
        "id": "UT3yoaPPcqpI"
      },
      "outputs": [],
      "source": [
        "import numpy as np\n",
        "import matplotlib.pyplot as plt\n",
        "import seaborn as sns\n",
        "import pandas as pd\n",
        "from sklearn.datasets import load_iris\n",
        "from sklearn.feature_selection import RFE\n",
        "from sklearn.linear_model import LogisticRegression\n",
        "from functools import reduce"
      ]
    },
    {
      "cell_type": "code",
      "execution_count": null,
      "metadata": {
        "id": "hSPk4e6xftMD"
      },
      "outputs": [],
      "source": [
        "data = pd.read_excel('./content/Привязка ID.xlsx', index_col='ID')\n",
        "data1 = pd.read_excel('./content/Объёмы перевозок.xls')\n",
        "data2 = pd.read_excel('./content/Обращения.xls', index_col='ID')\n",
        "data3 = pd.read_excel('./content/Интересы.xls', index_col='ID')\n",
        "data4 = pd.read_excel('./content/МС_Республика Чувашия.xls', index_col='ID')\n",
        "data5 = pd.read_excel('./content/МС_Республика Удмуртия.xls', index_col='ID')\n",
        "data6 = pd.read_excel('./content/МС_Республика Татарстан.xls', index_col='ID')\n",
        "data7 = pd.read_excel('./content/МС_Республика Мордовия.xls', index_col='ID')\n",
        "data8 = pd.read_excel('./content/МС_Республика Марий Эл.xls', index_col='ID')\n",
        "data9 = pd.read_excel('./content/МС_Нижегородская область.xls', index_col='ID')\n",
        "data10 = pd.read_excel('./content/МС_Кировская область.xls', index_col='ID')\n",
        "data11 = pd.read_excel('./content/МС_Владимирская область.xls', index_col='ID')\n"
      ]
    },
    {
      "cell_type": "code",
      "execution_count": null,
      "metadata": {
        "colab": {
          "base_uri": "https://localhost:8080/"
        },
        "collapsed": true,
        "id": "BDK38H_iJP4j",
        "outputId": "e63bf5f4-c15f-4130-b236-2785f58c08e9"
      },
      "outputs": [],
      "source": [
        "dataframes = [data4, data5, data6, data7, data8, data9, data10, data11]\n",
        "data_concatenated = pd.concat(dataframes)\n",
        "# 1. Удаление строк с NaN в строковых столбцах, если процент NaN > 40%\n",
        "string_columns = data_concatenated.select_dtypes(include=['object']).columns.tolist()\n",
        "\n",
        "for col in string_columns:\n",
        "    nan_percentage = data_concatenated[col].isna().mean() * 100\n",
        "    if nan_percentage > 40:\n",
        "        data_concatenated = data_concatenated.dropna(subset=[col])\n",
        "    else:\n",
        "        data_concatenated[col].fillna(data_concatenated[col].mode()[0], inplace=True)\n",
        "\n",
        "# 2. Заполнение NaN в числовых столбцах медианой\n",
        "num_columns = data_concatenated.select_dtypes(include=[np.number]).columns.tolist()\n",
        "data_concatenated[num_columns] = data_concatenated[num_columns].fillna(data_concatenated[num_columns].median())\n",
        "\n",
        "# Вывод результата\n",
        "print(\"Обработанный DataFrame:\")\n",
        "\n",
        "# Проверка на дубликаты\n",
        "duplicates = data_concatenated.duplicated()\n",
        "print(\"Дубликаты:\")\n",
        "print(duplicates)\n",
        "\n",
        "# Подсчет количества дубликатов\n",
        "count_duplicates = data_concatenated.duplicated().sum()\n",
        "print(f\"Количество дубликатов: {count_duplicates}\")\n",
        "\n",
        "# Показать все дублирующиеся строки\n",
        "duplicate_rows = data_concatenated[data_concatenated.duplicated(keep=False)]\n",
        "print(\"Все дублирующиеся строки:\")\n",
        "print(duplicate_rows)\n",
        "\n",
        "# Удаление дубликатов\n",
        "data_no_duplicates = data_concatenated.drop_duplicates()\n",
        "print(\"DataFrame без дубликатов:\")\n",
        "print(data_no_duplicates)\n",
        "\n"
      ]
    },
    {
      "cell_type": "code",
      "execution_count": null,
      "metadata": {
        "colab": {
          "base_uri": "https://localhost:8080/"
        },
        "collapsed": true,
        "id": "fR-PcKvI0g8r",
        "outputId": "d13d18f9-70a4-47d6-99d4-a33a3888abd9"
      },
      "outputs": [],
      "source": [
        "data_concatenated\n",
        "data_concatenated['Грузоотправитель'][ data_concatenated['Грузоотправитель']=='Да' ] = 1\n",
        "data_concatenated['Грузоотправитель'][ data_concatenated['Грузоотправитель']=='Нет' ] = 0\n",
        "data_concatenated['Находится в реестре МСП'][ data_concatenated['Находится в реестре МСП']=='Да' ] = 1\n",
        "data_concatenated['Находится в реестре МСП'][ data_concatenated['Находится в реестре МСП']=='Нет' ] = 0\n",
        "data_concatenated['Грузополучатель'][ data_concatenated['Грузополучатель']=='Да' ] = 1\n",
        "data_concatenated['Грузополучатель'][ data_concatenated['Грузополучатель']=='Нет' ] = 0\n",
        "data_concatenated['Госконтракты.Тип контракта'][ data_concatenated['Госконтракты.Тип контракта']=='Заказчик' ] = 1\n",
        "data_concatenated['Госконтракты.Тип контракта'][ data_concatenated['Госконтракты.Тип контракта']=='Исполнитель' ] = 0\n",
        "data_concatenated['Размер компании.Наименование'][ data_concatenated['Размер компании.Наименование']=='Микробизнес' ] = 0\n",
        "data_concatenated['Размер компании.Наименование'][ data_concatenated['Размер компании.Наименование']=='Малый бизнес' ] = 1\n",
        "data_concatenated['Размер компании.Наименование'][ data_concatenated['Размер компании.Наименование']=='Средний бизнес' ] = 2\n",
        "data_concatenated['Размер компании.Наименование'][ data_concatenated['Размер компании.Наименование']=='Крупный бизнес' ] = 3\n",
        "data_concatenated = data_concatenated.drop(['ОКВЭД2.Наименование', 'ОКВЭД2.Код', 'Город юридический', 'ЕЛС действующий', 'Госконтракты.Контракт', 'Карточка клиента (внешний источник).Индекс платежной дисциплины Описание', 'Карточка клиента (внешний источник).Индекс финансового риска Описание'],axis=1)"
      ]
    },
    {
      "cell_type": "markdown",
      "metadata": {
        "id": "XsGpbJhFLadx"
      },
      "source": []
    },
    {
      "cell_type": "code",
      "execution_count": 10,
      "metadata": {
        "id": "QnC9HfiZjmbf"
      },
      "outputs": [],
      "source": [
        "data_concatenated1 = data1.drop([ column_name for column_name in data1.columns[5::2] ], axis=1)\n",
        "\n",
        "for column in data_concatenated1.columns[5:]:\n",
        "    data_concatenated1[ f'{data_concatenated1[column][0]}' ] = data_concatenated1[column][2:]\n",
        "    del data_concatenated1[column]\n",
        "\n",
        "for column in data_concatenated1.columns[:5]:\n",
        "    data_concatenated1[ f'{data_concatenated1[column][1]}' ] = data_concatenated1[column][2:]\n",
        "    del data_concatenated1[column]\n",
        "\n",
        "data_concatenated1 = data_concatenated1.drop([0, 1])"
      ]
    },
    {
      "cell_type": "code",
      "execution_count": null,
      "metadata": {
        "colab": {
          "base_uri": "https://localhost:8080/"
        },
        "id": "21w5PPVWvNqD",
        "outputId": "9cd738ec-0902-4056-c6ca-74b36106bc0f"
      },
      "outputs": [],
      "source": [
        "# 1. Удаление строк с NaN в строковых столбцах, если процент NaN > 40%\n",
        "string_columns = data_concatenated1.select_dtypes(include=['object']).columns.tolist()\n",
        "\n",
        "for col in string_columns:\n",
        "    nan_percentage = data_concatenated1[col].isna().mean() * 100\n",
        "    if nan_percentage > 40:\n",
        "        data_concatenated1 = data_concatenated1.dropna(subset=[col])\n",
        "    else:\n",
        "        data_concatenated1[col].fillna(data_concatenated1[col].mode()[0], inplace=True)\n",
        "\n",
        "# 2. Заполнение NaN в числовых столбцах медианой\n",
        "num_columns = data_concatenated1.select_dtypes(include=[np.number]).columns.tolist()\n",
        "data_concatenated1[num_columns] = data_concatenated1[num_columns].fillna(data_concatenated1[num_columns].median())\n",
        "\n",
        "# Вывод результата\n",
        "print(\"Обработанный DataFrame:\")\n",
        "\n",
        "# Проверка на дубликаты\n",
        "duplicates = data_concatenated1.duplicated()\n",
        "print(\"Дубликаты:\")\n",
        "print(duplicates)\n",
        "\n",
        "# Подсчет количества дубликатов\n",
        "count_duplicates = data_concatenated1.duplicated().sum()\n",
        "print(f\"Количество дубликатов: {count_duplicates}\")\n",
        "\n",
        "# Показать все дублирующиеся строки\n",
        "duplicate_rows = data_concatenated1[data_concatenated1.duplicated(keep=False)]\n",
        "print(\"Все дублирующиеся строки:\")\n",
        "print(duplicate_rows)\n",
        "\n",
        "\n",
        "\n"
      ]
    },
    {
      "cell_type": "code",
      "execution_count": 12,
      "metadata": {
        "id": "j1ILJYSDkey4"
      },
      "outputs": [],
      "source": [
        "df = pd.merge(data_concatenated1, data_concatenated, on='ID')"
      ]
    },
    {
      "cell_type": "code",
      "execution_count": 13,
      "metadata": {
        "id": "XCA-0vjnm7Md"
      },
      "outputs": [],
      "source": [
        "from sklearn.preprocessing import LabelEncoder\n",
        "label_encoder = LabelEncoder()\n",
        "df['Субъект федерации отп'] = label_encoder.fit_transform(df['Субъект федерации отп'])\n",
        "df['Субъект федерации наз'] = label_encoder.fit_transform(df['Субъект федерации наз'])\n",
        "df['Гр груза по опер.номен'] = label_encoder.fit_transform(df['Гр груза по опер.номен'])\n",
        "#df = df.drop(['Код груза'],axis=1)\n",
        "df = df.drop(['Город фактический'],axis=1)\n",
        "df = df.drop(['Грузоотправитель'],axis=1)\n",
        "df = df.drop(['2022/01','2022/02','2022/03','2022/04','2022/05','2022/06','2022/07','2022/08'],axis=1)\n",
        "#df = df.drop(['ID'],axis=1)\n",
        "df = df.drop(['Грузополучатель'],axis=1)\n",
        "\n",
        "#df = df.drop(['2022/04','2023/01','2022/05','2023/04','2022/06','2022/11'],axis=1)\n",
        "#df = df.drop(['ID'],axis=1)\n",
        "#df = df.drop(['Гр груза по опер.номен'],axis=1)\n",
        "#df = df.drop(['Численность персонала по данным ФНС.Количество'],axis=1)\n",
        "#df = df.drop(['Субъект федерации отп'],axis=1)\n",
        "#df = df.drop(['Размер компании.Наименование'],axis=1)\n",
        "#df = df.drop(['Находится в реестре МСП'],axis=1)\n",
        "#df = df.drop(['Госконтракты.Тип контракта'],axis=1)\n"
      ]
    },
    {
      "cell_type": "code",
      "execution_count": null,
      "metadata": {
        "colab": {
          "base_uri": "https://localhost:8080/"
        },
        "id": "KFq1QNfvJNvZ",
        "outputId": "f40ec890-9f91-4a6a-fd0b-787a9cf49d5c"
      },
      "outputs": [],
      "source": [
        "print(df.columns)"
      ]
    },
    {
      "cell_type": "code",
      "execution_count": null,
      "metadata": {
        "colab": {
          "base_uri": "https://localhost:8080/"
        },
        "id": "V97t3z3RZX-U",
        "outputId": "41614706-d006-4271-8f8a-de6fada84790"
      },
      "outputs": [],
      "source": [
        "row_with_id_3072 = df[df['ID'] == 912]\n",
        "\n",
        "# Проверка, была ли найдена строка\n",
        "if not row_with_id_3072.empty:\n",
        "    # Получение значения из столбца '2024/08'\n",
        "    value_2024_08 = row_with_id_3072['2024/08'].values[0]  # Используем .values[0] для получения первого значения\n",
        "    print(f\"Значение в столбце '2024/08' для ID 3072: {value_2024_08}\")\n",
        "else:\n",
        "    print(\"Строка с ID 3072 не найдена.\")"
      ]
    },
    {
      "cell_type": "code",
      "execution_count": null,
      "metadata": {
        "colab": {
          "base_uri": "https://localhost:8080/"
        },
        "id": "Bdt8ccPsDu9K",
        "outputId": "572f74cc-c70f-4caa-97e2-b63cbf15fccd"
      },
      "outputs": [],
      "source": [
        "print(df['ID'])"
      ]
    },
    {
      "cell_type": "code",
      "execution_count": 17,
      "metadata": {
        "id": "CVm6Gu4sDvEB"
      },
      "outputs": [],
      "source": [
        "df2 = df"
      ]
    },
    {
      "cell_type": "code",
      "execution_count": 18,
      "metadata": {
        "id": "wCcK40S_bZ9S"
      },
      "outputs": [],
      "source": [
        "df3 = df"
      ]
    },
    {
      "cell_type": "code",
      "execution_count": 19,
      "metadata": {
        "id": "_wX1Y4S2t_kq"
      },
      "outputs": [],
      "source": [
        "df4 = df"
      ]
    },
    {
      "cell_type": "code",
      "execution_count": null,
      "metadata": {
        "colab": {
          "base_uri": "https://localhost:8080/"
        },
        "id": "dkUfBR6MCXno",
        "outputId": "cdaac01d-6667-4c32-924f-fe9aebf54c8d"
      },
      "outputs": [],
      "source": [
        "#Регрессивные деревья\n",
        "from sklearn.model_selection import train_test_split\n",
        "from sklearn.tree import DecisionTreeRegressor\n",
        "from sklearn.metrics import mean_squared_error, r2_score\n",
        "import joblib  # Импортируем библиотеку для сохранения модели\n",
        "y = df2['2024/08']\n",
        "X = df2.drop(columns=['2024/08'],axis=1)\n",
        "X = df2\n",
        "X_train, X_test, y_train, y_test = train_test_split(X, y, test_size=0.35, random_state=42)\n",
        "model = DecisionTreeRegressor(random_state=42)\n",
        "model.fit(X_train, y_train)\n",
        "y_pred = model.predict(X_test)\n",
        "mse = mean_squared_error(y_test, y_pred)\n",
        "r2 = r2_score(y_test, y_pred)\n",
        "\n",
        "print(f'Mean Squared Error (MSE): {mse:.2f}')\n",
        "print(f'R² Score: {r2:.2f}')\n",
        "# Сохранение модели в файл\n",
        "joblib.dump(model, 'decision_tree_model.joblib')\n",
        "print(\"Модель успешно сохранена в файл 'decision_tree_model.joblib'.\")"
      ]
    },
    {
      "cell_type": "code",
      "execution_count": null,
      "metadata": {
        "colab": {
          "base_uri": "https://localhost:8080/",
          "height": 1000
        },
        "collapsed": true,
        "id": "XxeajFdhpfYO",
        "outputId": "77631e26-be5c-4ab3-8f37-0541dd40087a"
      },
      "outputs": [],
      "source": [
        "#ГРАФИК ДЛЯ РЕГРЕССИВНЫХ ДЕРЕВЬЕВ\n",
        "# График рассеяния: Фактические vs Предсказанные значения\n",
        "plt.figure(figsize=(10, 6))\n",
        "plt.scatter(y_test, y_pred, alpha=0.6)\n",
        "plt.plot([y.min(), y.max()], [y.min(), y.max()], color='red', linestyle='--')\n",
        "plt.title('График рассеяния: Фактические vs Предсказанные значения')\n",
        "plt.xlabel('Фактические значения')\n",
        "plt.ylabel('Предсказанные значения')\n",
        "plt.grid()\n",
        "plt.show()\n",
        "\n",
        "# Гистограмма ошибок\n",
        "errors = y_test - y_pred\n",
        "\n",
        "plt.figure(figsize=(10, 6))\n",
        "plt.hist(errors, bins=30, color='skyblue', edgecolor='black')\n",
        "plt.title('Гистограмма ошибок предсказаний')\n",
        "plt.xlabel('Ошибка (Фактическое - Предсказанное)')\n",
        "plt.ylabel('Частота')\n",
        "plt.grid()\n",
        "plt.show()\n",
        "\n",
        "# Диаграмма \"ящик с усами\" для ошибок\n",
        "plt.figure(figsize=(10, 6))\n",
        "sns.boxplot(y=errors)\n",
        "plt.title('Диаграмма \"ящик с усами\" для ошибок предсказаний')\n",
        "plt.ylabel('Ошибка (Фактическое - Предсказанное)')\n",
        "plt.grid()\n",
        "plt.show()"
      ]
    },
    {
      "cell_type": "code",
      "execution_count": null,
      "metadata": {
        "colab": {
          "base_uri": "https://localhost:8080/"
        },
        "id": "d5khR6frRwqD",
        "outputId": "baf1c5b0-25c6-44c4-e343-b3642e3207af"
      },
      "outputs": [],
      "source": [
        "test_indices = X_test.index\n",
        "pred_ID = pd.DataFrame({\n",
        "    'ID':df.loc[test_indices,'ID'],\n",
        "    'Предсказанное значение': y_pred\n",
        "})\n",
        "\n",
        "print(pred_ID)"
      ]
    },
    {
      "cell_type": "code",
      "execution_count": null,
      "metadata": {
        "colab": {
          "base_uri": "https://localhost:8080/"
        },
        "id": "KsmCVmokgi0-",
        "outputId": "44ceff4b-3793-4510-b3ca-eec0f959e4fc"
      },
      "outputs": [],
      "source": [
        "from sklearn.model_selection import train_test_split\n",
        "from sklearn.neighbors import KNeighborsRegressor  # Используем регрессор KNN\n",
        "from sklearn.metrics import mean_squared_error, r2_score, mean_absolute_error\n",
        "import pandas as pd\n",
        "\n",
        "# Предположим, что df2 уже загружен и содержит ваши данные\n",
        "y = df3['2024/08']  # Целевая переменная\n",
        "df3 = df3.drop(['2024/08'], axis=1)  # Удаляем целевую переменную из признаков\n",
        "X = df3\n",
        "\n",
        "# Разделение данных на обучающую и тестовую выборки\n",
        "X_train, X_test, y_train, y_test = train_test_split(X, y, test_size=0.35, random_state=42)\n",
        "\n",
        "# Создание и обучение модели KNN\n",
        "model = KNeighborsRegressor(n_neighbors=5)  # Вы можете изменить n_neighbors по своему усмотрению\n",
        "model.fit(X_train, y_train)\n",
        "\n",
        "# Выполнение предсказаний на тестовой выборке\n",
        "y_pred = model.predict(X_test)\n",
        "\n",
        "# Оценка производительности модели\n",
        "mse = mean_squared_error(y_test, y_pred)\n",
        "r2 = r2_score(y_test, y_pred)\n",
        "mae = mean_absolute_error(y_test, y_pred)\n",
        "\n",
        "print(f'Mean Squared Error (MSE): {mse:.2f}')\n",
        "print(f'R² Score: {r2:.2f}')\n",
        "print(f'Mean Absolute Error (MAE): {mae:.2f}')"
      ]
    },
    {
      "cell_type": "code",
      "execution_count": null,
      "metadata": {
        "colab": {
          "base_uri": "https://localhost:8080/",
          "height": 1000
        },
        "collapsed": true,
        "id": "ZDRUeIkeivFs",
        "outputId": "c3c35924-567b-4fcd-a941-4f89ef5ace9e"
      },
      "outputs": [],
      "source": [
        "#ГРАФИК ДЛЯ КНН\n",
        "# График рассеяния\n",
        "plt.figure(figsize=(10, 6))\n",
        "plt.scatter(y_test, y_pred, alpha=0.6)\n",
        "plt.plot([y.min(), y.max()], [y.min(), y.max()], color='red', linestyle='--')\n",
        "plt.title('График рассеяния: Фактические vs Предсказанные значения')\n",
        "plt.xlabel('Фактические значения')\n",
        "plt.ylabel('Предсказанные значения')\n",
        "plt.grid()\n",
        "plt.show()\n",
        "\n",
        "# Гистограмма ошибок\n",
        "errors = y_test - y_pred\n",
        "\n",
        "plt.figure(figsize=(10, 6))\n",
        "plt.hist(errors, bins=30, color='skyblue', edgecolor='black')\n",
        "plt.title('Гистограмма ошибок предсказаний')\n",
        "plt.xlabel('Ошибка (Фактическое - Предсказанное)')\n",
        "plt.ylabel('Частота')\n",
        "plt.grid()\n",
        "plt.show()\n",
        "\n",
        "# Диаграмма \"ящик с усами\" для ошибок\n",
        "plt.figure(figsize=(10, 6))\n",
        "sns.boxplot(y=errors)\n",
        "plt.title('Диаграмма \"ящик с усами\" для ошибок предсказаний')\n",
        "plt.ylabel('Ошибка (Фактическое - Предсказанное)')\n",
        "plt.grid()\n",
        "plt.show()"
      ]
    },
    {
      "cell_type": "code",
      "execution_count": null,
      "metadata": {
        "colab": {
          "base_uri": "https://localhost:8080/"
        },
        "id": "BFJCWV0GGWAU",
        "outputId": "b1f22b42-347a-4d37-9463-57859cf64bc0"
      },
      "outputs": [],
      "source": [
        "joblib.dump(model, 'decision_knn_super_duper_model.joblib')\n",
        "print(\"Модель успешно сохранена в файл 'decision_knn_model.joblib'.\")"
      ]
    },
    {
      "cell_type": "code",
      "execution_count": null,
      "metadata": {
        "id": "a8wXSt9KVqhi"
      },
      "outputs": [],
      "source": [
        "from sklearn.ensemble import RandomForestRegressor\n",
        "from sklearn.model_selection import train_test_split\n",
        "y = df2['2024/08']\n",
        "X = df2.drop(columns=['ID','2024/08'],axis=1)\n",
        "X = df2\n",
        "\n",
        "# Разделение данных\n",
        "X_train, X_test, y_train, y_test = train_test_split(X, y, test_size=0.35, random_state=42)\n",
        "\n",
        "# Создание и обучение модели случайного леса\n",
        "model = RandomForestRegressor(n_estimators=100, random_state=42)\n",
        "model.fit(X_train, y_train)\n",
        "\n",
        "# Прогнозирование\n",
        "predictions = model.predict(X_test)"
      ]
    },
    {
      "cell_type": "code",
      "execution_count": null,
      "metadata": {
        "colab": {
          "base_uri": "https://localhost:8080/"
        },
        "id": "VbSs0ijoWG8m",
        "outputId": "c7c202cf-b272-4513-c526-39d16ebd6ff7"
      },
      "outputs": [],
      "source": [
        "# Оценка производительности модели\n",
        "mse = mean_squared_error(y_test, predictions)\n",
        "r2 = r2_score(y_test, predictions)\n",
        "mae = mean_absolute_error(y_test, predictions)\n",
        "\n",
        "print(f'Mean Squared Error (MSE): {mse:.2f}')\n",
        "print(f'R² Score: {r2:.2f}')\n",
        "print(f'Mean Absolute Error (MAE): {mae:.2f}')"
      ]
    },
    {
      "cell_type": "code",
      "execution_count": null,
      "metadata": {
        "colab": {
          "base_uri": "https://localhost:8080/",
          "height": 564
        },
        "id": "QHO54S0RXXpb",
        "outputId": "63d4ca34-72ed-4bda-b128-4f6a26aa1fd4"
      },
      "outputs": [],
      "source": [
        "plt.figure(figsize=(10, 6))\n",
        "plt.scatter(y_test, y_pred, alpha=0.6)\n",
        "plt.plot([y.min(), y.max()], [y.min(), y.max()], color='red', linestyle='--')\n",
        "plt.title('График рассеяния: Фактические vs Предсказанные значения')\n",
        "plt.xlabel('Фактические значения')\n",
        "plt.ylabel('Предсказанные значения')\n",
        "plt.grid()\n",
        "plt.show()"
      ]
    },
    {
      "cell_type": "code",
      "execution_count": null,
      "metadata": {
        "colab": {
          "base_uri": "https://localhost:8080/",
          "height": 211
        },
        "id": "TO7GHW4BtsC3",
        "outputId": "54a8a410-30b7-4e51-dca1-8969b95648d4"
      },
      "outputs": [],
      "source": [
        "#Модель SVR\n",
        "from sklearn.model_selection import train_test_split, GridSearchCV\n",
        "from sklearn.neighbors import KNeighborsRegressor\n",
        "from sklearn.svm import SVR\n",
        "from sklearn.tree import DecisionTreeRegressor\n",
        "from sklearn.preprocessing import StandardScaler\n",
        "from sklearn.pipeline import Pipeline\n",
        "from sklearn.model_selection import train_test_split\n",
        "from sklearn.svm import SVR  # Используем регрессор SVM\n",
        "from sklearn.metrics import mean_squared_error, r2_score, mean_absolute_error\n",
        "y = df4['2024/08']  # Целевая переменная\n",
        "df4 = df4.drop(['2024/08'], axis=1)  # Удаляем целевую переменную из признаков\n",
        "X = df4\n",
        "\n",
        "# Разделение данных на обучающую и тестовую выборки\n",
        "X_train, X_test, y_train, y_test = train_test_split(X, y, test_size=0.25, random_state=42)\n",
        "# Настройка SVR\n",
        "svr_params = {\n",
        "    'model__C': np.logspace(-3, 2, 6),  # Логарифмический диапазон от 0.001 до 100\n",
        "    'model__epsilon': np.arange(0.01, 0.1, 0.01)  # Значения epsilon от 0.01 до 0.09\n",
        "}\n",
        "\n",
        "svr_pipeline = Pipeline(steps=[\n",
        "    ('scaler', StandardScaler()),\n",
        "    ('model', SVR(kernel='rbf'))\n",
        "])\n",
        "\n",
        "svr_grid_search = GridSearchCV(\n",
        "    estimator=svr_pipeline,\n",
        "    param_grid=svr_params,\n",
        "    scoring='roc_auc',\n",
        "    n_jobs=-1,\n",
        "    cv=10,\n",
        "    refit=True,\n",
        ")\n",
        "\n",
        "svr_best_model = svr_grid_search.fit(X_train, y_train)\n",
        "\n",
        "# Создание и обучение модели SVM\n",
        "#model = SVR(kernel='rbf')  # Вы можете изменить параметр kernel на 'linear', 'poly' и т.д.\n",
        "#model.fit(X_train, y_train)\n",
        "\n",
        "# Выполнение предсказаний на тестовой выборке\n",
        "#y_pred = model.predict(X_test)\n",
        "\n",
        "# Оценка производительности модели\n",
        "mse = mean_squared_error(y_test, y_pred)\n",
        "r2 = r2_score(y_test, y_pred)\n",
        "mae = mean_absolute_error(y_test, y_pred)\n",
        "\n",
        "print(f'Mean Squared Error (MSE): {mse:.2f}')\n",
        "print(f'R² Score: {r2:.2f}')\n",
        "print(f'Mean Absolute Error (MAE): {mae:.2f}')"
      ]
    },
    {
      "cell_type": "code",
      "execution_count": null,
      "metadata": {
        "id": "jdRYGHb4wTIQ"
      },
      "outputs": [],
      "source": [
        "# График рассеяния: Фактические vs Предсказанные значения\n",
        "plt.figure(figsize=(10, 6))\n",
        "plt.scatter(y_test, y_pred, alpha=0.6)\n",
        "plt.plot([y.min(), y.max()], [y.min(), y.max()], color='red', linestyle='--')\n",
        "plt.title('График рассеяния: Фактические vs Предсказанные значения')\n",
        "plt.xlabel('Фактические значения')\n",
        "plt.ylabel('Предсказанные значения')\n",
        "plt.grid()\n",
        "plt.show()\n",
        "\n",
        "# Гистограмма ошибок\n",
        "errors = y_test - y_pred\n",
        "\n",
        "plt.figure(figsize=(10, 6))\n",
        "plt.hist(errors, bins=30, color='skyblue', edgecolor='black')\n",
        "plt.title('Гистограмма ошибок предсказаний')\n",
        "plt.xlabel('Ошибка (Фактическое - Предсказанное)')\n",
        "plt.ylabel('Частота')\n",
        "plt.grid()\n",
        "plt.show()\n",
        "\n",
        "# Диаграмма \"ящик с усами\" для ошибок\n",
        "plt.figure(figsize=(10, 6))\n",
        "sns.boxplot(y=errors)\n",
        "plt.title('Диаграмма \"ящик с усами\" для ошибок предсказаний')\n",
        "plt.ylabel('Ошибка (Фактическое - Предсказанное)')\n",
        "plt.grid()\n",
        "plt.show()"
      ]
    }
  ],
  "metadata": {
    "colab": {
      "gpuType": "T4",
      "provenance": []
    },
    "kernelspec": {
      "display_name": ".venv",
      "language": "python",
      "name": "python3"
    },
    "language_info": {
      "codemirror_mode": {
        "name": "ipython",
        "version": 3
      },
      "file_extension": ".py",
      "mimetype": "text/x-python",
      "name": "python",
      "nbconvert_exporter": "python",
      "pygments_lexer": "ipython3",
      "version": "3.10.15"
    }
  },
  "nbformat": 4,
  "nbformat_minor": 0
}
